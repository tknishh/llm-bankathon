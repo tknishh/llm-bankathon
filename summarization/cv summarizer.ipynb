{
 "cells": [
  {
   "cell_type": "code",
   "execution_count": 5,
   "metadata": {},
   "outputs": [],
   "source": [
    "from langchain.chains.summarize import load_summarize_chain\n",
    "from langchain.document_loaders import PyPDFLoader\n",
    "from langchain import OpenAI, PromptTemplate\n",
    "import glob"
   ]
  },
  {
   "cell_type": "code",
   "execution_count": 6,
   "metadata": {},
   "outputs": [
    {
     "data": {
      "text/plain": [
       "True"
      ]
     },
     "execution_count": 6,
     "metadata": {},
     "output_type": "execute_result"
    }
   ],
   "source": [
    "from dotenv import load_dotenv, find_dotenv\n",
    "load_dotenv(find_dotenv())"
   ]
  },
  {
   "cell_type": "code",
   "execution_count": null,
   "metadata": {},
   "outputs": [],
   "source": [
    "from langchain.document_loaders import PyPDFLoader\n",
    "\n",
    "documents = []\n",
    "for file in os.listdir(\"./resume\"):\n",
    "    if file.endswith(\".pdf\"):\n",
    "        pdf_path = \"./resume/\" + file\n",
    "        loader = PyPDFLoader(pdf_path)\n",
    "        documents.extend(loader.load())"
   ]
  },
  {
   "cell_type": "code",
   "execution_count": 7,
   "metadata": {},
   "outputs": [],
   "source": [
    "llm = OpenAI(temperature=0.2)\n",
    "def summarize_pdfs_from_folder(pdfs_folder):\n",
    "    summaries = []\n",
    "    for pdf_file in glob.glob(pdfs_folder + \"/*.pdf\"):\n",
    "        loader = PyPDFLoader(pdf_file)\n",
    "        docs = loader.load_and_split()\n",
    "        chain = load_summarize_chain(llm, chain_type=\"map_reduce\")\n",
    "        summary = chain.run(docs)\n",
    "        print(\"Summary for: \", pdf_file)\n",
    "        print(summary)\n",
    "        print(\"\\n\")\n",
    "        summaries.append(summary)\n",
    "    \n",
    "    return summaries"
   ]
  },
  {
   "cell_type": "code",
   "execution_count": 8,
   "metadata": {},
   "outputs": [],
   "source": [
    "def custom_summary(pdf_folder, custom_prompt):\n",
    "    summaries = []\n",
    "    for pdf_file in glob.glob(pdf_folder + \"/*.pdf\"):\n",
    "        loader = PyPDFLoader(pdf_file)\n",
    "        docs = loader.load_and_split()\n",
    "        prompt_template = custom_prompt + \"\"\"\n",
    "\n",
    "        {text}\n",
    "\n",
    "        SUMMARY:\"\"\"\n",
    "        PROMPT = PromptTemplate(template=prompt_template, input_variables=[\"text\"])\n",
    "        chain = load_summarize_chain(llm, chain_type=\"map_reduce\", \n",
    "                                    map_prompt=PROMPT, combine_prompt=PROMPT)\n",
    "        summary_output = chain({\"input_documents\": docs},return_only_outputs=True)[\"output_text\"]\n",
    "        summaries.append(summary_output)\n",
    "        \n",
    "    return summaries"
   ]
  },
  {
   "cell_type": "code",
   "execution_count": 10,
   "metadata": {},
   "outputs": [
    {
     "name": "stdout",
     "output_type": "stream",
     "text": [
      "Summary for:  ./resume\\Pratishtha Singh.pdf\n",
      " Pratishtha Singh is a student at Jaypee University of Engineering and Technology in India studying Computer Science. She has experience in a variety of languages, frameworks, and tools, and has worked on several projects. She has also interned and held a position at GDSC JUET. In addition, she has provided support and resources to students in need, advocated for equal access to education and resources, and led initiatives successfully. She achieved a 13th rank in an online round and 4th rank among the top participants in a final round at a Hackathon (Codespire) in March 2023.\n",
      "\n",
      "\n",
      "Summary for:  ./resume\\Sandali-CV.pdf\n",
      " Sandali Gupta is a B.Tech Computer Science student with strong problem-solving and analytical skills. He is experienced in project development and has technical skills in Python, Java, CPP, HTML, CSS, Javascript, and various frameworks. He has also held positions of responsibility and volunteered for various organizations.\n",
      "\n",
      "\n"
     ]
    },
    {
     "name": "stderr",
     "output_type": "stream",
     "text": [
      "Retrying langchain.llms.openai.completion_with_retry.<locals>._completion_with_retry in 4.0 seconds as it raised RateLimitError: Rate limit reached for default-text-davinci-003 in organization org-nSLZbSvqQViJHZZYqUphiWkz on requests per min. Limit: 3 / min. Please try again in 20s. Contact us through our help center at help.openai.com if you continue to have issues. Please add a payment method to your account to increase your rate limit. Visit https://platform.openai.com/account/billing to add a payment method..\n",
      "Retrying langchain.llms.openai.completion_with_retry.<locals>._completion_with_retry in 4.0 seconds as it raised RateLimitError: Rate limit reached for default-text-davinci-003 in organization org-nSLZbSvqQViJHZZYqUphiWkz on requests per min. Limit: 3 / min. Please try again in 20s. Contact us through our help center at help.openai.com if you continue to have issues. Please add a payment method to your account to increase your rate limit. Visit https://platform.openai.com/account/billing to add a payment method..\n",
      "Retrying langchain.llms.openai.completion_with_retry.<locals>._completion_with_retry in 4.0 seconds as it raised RateLimitError: Rate limit reached for default-text-davinci-003 in organization org-nSLZbSvqQViJHZZYqUphiWkz on requests per min. Limit: 3 / min. Please try again in 20s. Contact us through our help center at help.openai.com if you continue to have issues. Please add a payment method to your account to increase your rate limit. Visit https://platform.openai.com/account/billing to add a payment method..\n",
      "Retrying langchain.llms.openai.completion_with_retry.<locals>._completion_with_retry in 8.0 seconds as it raised RateLimitError: Rate limit reached for default-text-davinci-003 in organization org-nSLZbSvqQViJHZZYqUphiWkz on requests per min. Limit: 3 / min. Please try again in 20s. Contact us through our help center at help.openai.com if you continue to have issues. Please add a payment method to your account to increase your rate limit. Visit https://platform.openai.com/account/billing to add a payment method..\n",
      "Retrying langchain.llms.openai.completion_with_retry.<locals>._completion_with_retry in 4.0 seconds as it raised RateLimitError: Rate limit reached for default-text-davinci-003 in organization org-nSLZbSvqQViJHZZYqUphiWkz on requests per min. Limit: 3 / min. Please try again in 20s. Contact us through our help center at help.openai.com if you continue to have issues. Please add a payment method to your account to increase your rate limit. Visit https://platform.openai.com/account/billing to add a payment method..\n"
     ]
    },
    {
     "name": "stdout",
     "output_type": "stream",
     "text": [
      "Summary for:  ./resume\\Vani Seth CV.pdf\n",
      " Vani Seth is a 3rd-year student in Computer Science and Engineering at Jaypee University of Engineering and Technology, Guna. She has a current CGPA of 8.7 and is among the top 5 students in her class. She has experience in Machine Learning, Artificial Intelligence, Data Science, Open Source Contributor, Graphic Design, Research Assistant, and AI/ML Intern. She has participated in various hackathons and has achieved several awards. Her skills include Python, C, C++, Java, JavaScript, Bash, HTML/CSS, MySQL, SQLite, Langchain, Tensorflow, Keras, Numpy, Pandas, Matplotlib, Scikit-Learn, Pytorch, OpenCV, Kubernetes, Docker, Git, Photoshop, Linux, AWS, GCP, Windows, and she has created projects such as Class Scheduler using AI, Steg.\n",
      "\n",
      "\n"
     ]
    }
   ],
   "source": [
    "summaries = summarize_pdfs_from_folder(\"./resume\")"
   ]
  },
  {
   "cell_type": "code",
   "execution_count": 11,
   "metadata": {},
   "outputs": [],
   "source": [
    "# Save all summaries into one .txt file\n",
    "with open(\"summaries.txt\", \"w\") as f:\n",
    "    for summary in summaries:\n",
    "        f.write(summary + \"\\n\"*3)"
   ]
  },
  {
   "cell_type": "code",
   "execution_count": null,
   "metadata": {},
   "outputs": [],
   "source": []
  }
 ],
 "metadata": {
  "kernelspec": {
   "display_name": "Python 3",
   "language": "python",
   "name": "python3"
  },
  "language_info": {
   "codemirror_mode": {
    "name": "ipython",
    "version": 3
   },
   "file_extension": ".py",
   "mimetype": "text/x-python",
   "name": "python",
   "nbconvert_exporter": "python",
   "pygments_lexer": "ipython3",
   "version": "3.11.1"
  },
  "orig_nbformat": 4
 },
 "nbformat": 4,
 "nbformat_minor": 2
}
