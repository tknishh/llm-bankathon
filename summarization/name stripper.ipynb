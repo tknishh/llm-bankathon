{
 "cells": [
  {
   "cell_type": "code",
   "execution_count": 5,
   "metadata": {},
   "outputs": [
    {
     "data": {
      "text/plain": [
       "True"
      ]
     },
     "execution_count": 5,
     "metadata": {},
     "output_type": "execute_result"
    }
   ],
   "source": [
    "from dotenv import load_dotenv, find_dotenv\n",
    "load_dotenv(find_dotenv())"
   ]
  },
  {
   "cell_type": "code",
   "execution_count": null,
   "metadata": {},
   "outputs": [],
   "source": [
    "from langchain.llms import OpenAI\n",
    "llm = OpenAI(model_name= \"text-davinci-003\")\n",
    "llm(\"Explain large language models in a few words.\")"
   ]
  },
  {
   "cell_type": "code",
   "execution_count": 10,
   "metadata": {},
   "outputs": [
    {
     "name": "stdout",
     "output_type": "stream",
     "text": [
      "List of PDF file names:\n",
      "['Pratishtha Singh', 'Sandali-', 'Vani Seth']\n"
     ]
    }
   ],
   "source": [
    "import os\n",
    "\n",
    "pdf_directory = \"./resume/\" \n",
    "pdf_files = []\n",
    "\n",
    "for filename in os.listdir(pdf_directory):\n",
    "    if filename.endswith(\".pdf\"):  \n",
    "        pdf_name = os.path.splitext(filename)[0] \n",
    "        pdf_name = pdf_name.replace(\"CV\", \"\").replace(\"resume\", \"\").strip()  \n",
    "        pdf_files.append(pdf_name)\n",
    "\n",
    "\n",
    "print(\"List of PDF file names:\")\n",
    "print(pdf_files)"
   ]
  },
  {
   "cell_type": "code",
   "execution_count": 14,
   "metadata": {},
   "outputs": [
    {
     "name": "stdout",
     "output_type": "stream",
     "text": [
      "List of PDF file names:\n",
      "['Pratishtha Singh', 'Sandali', 'Vani Seth']\n"
     ]
    }
   ],
   "source": [
    "import os\n",
    "import re\n",
    "\n",
    "pdf_directory = \"./resume/\" \n",
    "pdf_files = []\n",
    "\n",
    "def remove_special_characters(text):\n",
    "    return re.sub(r'[^\\w\\s]', '', text)\n",
    "\n",
    "for filename in os.listdir(pdf_directory):\n",
    "    if filename.endswith(\".pdf\"):  \n",
    "        pdf_name = os.path.splitext(filename)[0] \n",
    "        pdf_name = remove_special_characters(pdf_name)  \n",
    "        pdf_name = pdf_name.replace(\"CV\", \"\").replace(\"resume\", \"\").replace(\"cv\", \"\").replace(\"Resume\", \"\").strip() \n",
    "        pdf_files.append(pdf_name)\n",
    "\n",
    "print(\"List of PDF file names:\")\n",
    "print(pdf_files)"
   ]
  },
  {
   "cell_type": "code",
   "execution_count": null,
   "metadata": {},
   "outputs": [],
   "source": []
  }
 ],
 "metadata": {
  "kernelspec": {
   "display_name": "Python 3",
   "language": "python",
   "name": "python3"
  },
  "language_info": {
   "codemirror_mode": {
    "name": "ipython",
    "version": 3
   },
   "file_extension": ".py",
   "mimetype": "text/x-python",
   "name": "python",
   "nbconvert_exporter": "python",
   "pygments_lexer": "ipython3",
   "version": "3.11.1"
  },
  "orig_nbformat": 4
 },
 "nbformat": 4,
 "nbformat_minor": 2
}
