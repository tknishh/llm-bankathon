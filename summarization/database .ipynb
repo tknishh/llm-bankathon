{
 "cells": [
  {
   "cell_type": "code",
   "execution_count": 7,
   "metadata": {},
   "outputs": [
    {
     "name": "stdout",
     "output_type": "stream",
     "text": [
      "CSV file created successfully!\n"
     ]
    }
   ],
   "source": [
    "import os\n",
    "import csv\n",
    "import re\n",
    "from PyPDF2 import PdfReader\n",
    "\n",
    "data_directory = \"./resume/\"  \n",
    "\n",
    "def extract_text_from_pdf(pdf_path):\n",
    "    pdf_reader = PdfReader(pdf_path)\n",
    "    text = \"\"\n",
    "    for page in pdf_reader.pages:\n",
    "        text += page.extract_text()\n",
    "    return text\n",
    "\n",
    "csv_data = []\n",
    "for pdf_filename in os.listdir(data_directory):\n",
    "    if pdf_filename.endswith(\".pdf\"):\n",
    "        pdf_path = os.path.join(data_directory, pdf_filename)\n",
    "        name = os.path.splitext(pdf_filename)[0]\n",
    "        \n",
    "        pdf_text = extract_text_from_pdf(pdf_path)\n",
    "        email_pattern = r\"[\\w\\.-]+@[\\w\\.-]+\"\n",
    "        email_matches = re.findall(email_pattern, pdf_text)\n",
    "        email = email_matches[0] if email_matches else \"\"\n",
    "        \n",
    "        skills_pattern = r\"Skills: (.+)\"\n",
    "        skills_matches = re.search(skills_pattern, pdf_text)\n",
    "        skills = skills_matches.group(1) if skills_matches else \"\"\n",
    "        \n",
    "        # Extract summary from text file\n",
    "        txt_filename = \"summaries.txt\"\n",
    "        txt_path = os.path.join(data_directory, txt_filename)\n",
    "        summary = \"\"\n",
    "        if os.path.exists(txt_path):\n",
    "            with open(txt_path, \"r\") as txt_file:\n",
    "                lines = txt_file.readlines()\n",
    "                if len(lines) > 1:\n",
    "                    summary = lines[1].strip()\n",
    "        \n",
    "        csv_data.append([name, \"\", summary, \"\", email, skills])\n",
    "\n",
    "# Write data to CSV\n",
    "csv_path = os.path.join(data_directory, \"output.csv\")\n",
    "with open(csv_path, \"w\", newline=\"\") as csv_file:\n",
    "    csv_writer = csv.writer(csv_file)\n",
    "    csv_writer.writerow([\"Name\", \"Job Title\", \"Summary\", \"Score\", \"Email ID\", \"Skills\"])\n",
    "    csv_writer.writerows(csv_data)\n",
    "\n",
    "print(\"CSV file created successfully!\")\n"
   ]
  },
  {
   "cell_type": "code",
   "execution_count": null,
   "metadata": {},
   "outputs": [],
   "source": []
  }
 ],
 "metadata": {
  "kernelspec": {
   "display_name": "Python 3",
   "language": "python",
   "name": "python3"
  },
  "language_info": {
   "codemirror_mode": {
    "name": "ipython",
    "version": 3
   },
   "file_extension": ".py",
   "mimetype": "text/x-python",
   "name": "python",
   "nbconvert_exporter": "python",
   "pygments_lexer": "ipython3",
   "version": "3.11.1"
  },
  "orig_nbformat": 4
 },
 "nbformat": 4,
 "nbformat_minor": 2
}
